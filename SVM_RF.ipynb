{
 "cells": [
  {
   "cell_type": "code",
   "execution_count": 1,
   "metadata": {},
   "outputs": [],
   "source": [
    "import pickle as pk\n",
    "import pandas as pd \n",
    "import numpy as np \n",
    "from scipy.signal import butter, sosfilt, sosfreqz"
   ]
  },
  {
   "cell_type": "code",
   "execution_count": 2,
   "metadata": {},
   "outputs": [],
   "source": [
    "path = '/content/drive/My Drive/Colab Notebooks/DeepLearningAssignment/Data/'\n",
    "data = open('Data_Raw_signals.pkl','rb')\n",
    "data_raw = pk.load(data) \n",
    "test = open('Test_Raw_signals_no_labels.pkl','rb')\n",
    "test_raw = pk.load(test)"
   ]
  },
  {
   "cell_type": "code",
   "execution_count": 3,
   "metadata": {},
   "outputs": [],
   "source": [
    "data = data_raw[0]\n",
    "labels = data_raw[1]\n",
    "test_data = test_raw[0]"
   ]
  },
  {
   "cell_type": "code",
   "execution_count": 4,
   "metadata": {},
   "outputs": [],
   "source": [
    "data = np.reshape(data,(15375,3000,2))\n",
    "test_data = np.reshape(test_data,(1754,3000,2))"
   ]
  },
  {
   "cell_type": "code",
   "execution_count": 5,
   "metadata": {},
   "outputs": [],
   "source": [
    "data_whole = np.concatenate((data,test_data),axis=0)"
   ]
  },
  {
   "cell_type": "markdown",
   "metadata": {},
   "source": [
    "# Calculate Absolute Band Power"
   ]
  },
  {
   "cell_type": "code",
   "execution_count": 6,
   "metadata": {},
   "outputs": [],
   "source": [
    "def bandpower(data, sf, band, window_sec=None, relative=False):\n",
    "    from scipy.signal import welch\n",
    "    from scipy.integrate import simps\n",
    "    band = np.asarray(band)\n",
    "    low, high = band\n",
    "\n",
    "    # Define window length\n",
    "    if window_sec is not None:\n",
    "        nperseg = window_sec * sf\n",
    "    else:\n",
    "        nperseg = (2 / low) * sf\n",
    "\n",
    "    # Compute the modified periodogram (Welch)\n",
    "    freqs, psd = welch(data, sf, nperseg=nperseg)\n",
    "\n",
    "    # Frequency resolution\n",
    "    freq_res = freqs[1] - freqs[0]\n",
    "\n",
    "    # Find closest indices of band in frequency vector\n",
    "    idx_band = np.logical_and(freqs >= low, freqs <= high)\n",
    "\n",
    "    # Integral approximation of the spectrum using Simpson's rule.\n",
    "    bp = simps(psd[idx_band], dx=freq_res)\n",
    "\n",
    "    if relative:\n",
    "        bp /= simps(psd, dx=freq_res)\n",
    "    return bp"
   ]
  },
  {
   "cell_type": "code",
   "execution_count": 7,
   "metadata": {},
   "outputs": [],
   "source": [
    "delta_bd = np.ndarray(shape = (data_whole.shape[0],1,data_whole.shape[2]))\n",
    "\n",
    "for i in range(data_whole.shape[0]):\n",
    "    for j in range(data_whole.shape[2]):\n",
    "        sig_cD = data_whole[i,:,j]\n",
    "        bd = bandpower(sig_cD, sf=100, band=(.5,4), window_sec=None, relative=False)\n",
    "        delta_bd[i,:,j] = bd\n",
    "\n",
    "theta_bd = np.ndarray(shape = (data_whole.shape[0],1,data_whole.shape[2]))\n",
    "for i in range(data_whole.shape[0]):\n",
    "    for j in range(data_whole.shape[2]):\n",
    "        sig_cD = data_whole[i,:,j]\n",
    "        bd = bandpower(sig_cD, sf=100, band=(4,8), window_sec=None, relative=False)\n",
    "        theta_bd[i,:,j] = bd\n",
    "        \n",
    "alpha_bd = np.ndarray(shape = (data_whole.shape[0],1,data_whole.shape[2]))\n",
    "\n",
    "for i in range(data_whole.shape[0]):\n",
    "    for j in range(data_whole.shape[2]):\n",
    "        sig_cD = data_whole[i,:,j]\n",
    "        bd = bandpower(sig_cD, sf=100, band=(8,13), window_sec=None, relative=False)\n",
    "        alpha_bd[i,:,j] = bd\n",
    "\n",
    "\n",
    "beta_bd = np.ndarray(shape = (data_whole.shape[0],1,data_whole.shape[2]))\n",
    "\n",
    "for i in range(data_whole.shape[0]):\n",
    "    for j in range(data_whole.shape[2]):\n",
    "        sig_cD = data_whole[i,:,j]\n",
    "        bd = bandpower(sig_cD, sf=100, band=(13,30), window_sec=None, relative=False)\n",
    "        beta_bd[i,:,j] = bd\n",
    "        \n",
    "gamma_bd = np.ndarray(shape = (data_whole.shape[0],1,data_whole.shape[2]))\n",
    "\n",
    "for i in range(data_whole.shape[0]):\n",
    "    for j in range(data_whole.shape[2]):\n",
    "        sig_cD = data_whole[i,:,j]\n",
    "        bd = bandpower(sig_cD, sf=100, band=(30,44), window_sec=None, relative=False)\n",
    "        gamma_bd[i,:,j] = bd"
   ]
  },
  {
   "cell_type": "code",
   "execution_count": 9,
   "metadata": {},
   "outputs": [],
   "source": [
    "all_bands_pw = np.concatenate((delta_bd,theta_bd,alpha_bd,beta_bd,gamma_bd),axis=1)"
   ]
  },
  {
   "cell_type": "markdown",
   "metadata": {},
   "source": [
    "# All bands Relative Power"
   ]
  },
  {
   "cell_type": "code",
   "execution_count": 10,
   "metadata": {},
   "outputs": [
    {
     "name": "stderr",
     "output_type": "stream",
     "text": [
      "/Users/toothless/opt/anaconda3/lib/python3.7/site-packages/ipykernel_launcher.py:26: RuntimeWarning: invalid value encountered in double_scalars\n"
     ]
    }
   ],
   "source": [
    "delta_rpbd= np.ndarray(shape = (data_whole.shape[0],1,data_whole.shape[2]))\n",
    "\n",
    "for i in range(data_whole.shape[0]):\n",
    "    for j in range(data_whole.shape[2]):\n",
    "        sig_cD = data_whole[i,:,j]\n",
    "        rpbd= bandpower(sig_cD, sf=100, band=(.5,4), window_sec=4, relative=True)\n",
    "        delta_rpbd[i,:,j] = rpbd\n",
    "\n",
    "theta_rpbd= np.ndarray(shape = (data_whole.shape[0],1,data_whole.shape[2]))\n",
    "for i in range(data_whole.shape[0]):\n",
    "    for j in range(data_whole.shape[2]):\n",
    "        sig_cD = data_whole[i,:,j]\n",
    "        rpbd= bandpower(sig_cD, sf=100, band=(4,8), window_sec=4, relative=True)\n",
    "        theta_rpbd[i,:,j] = rpbd\n",
    "        \n",
    "alpha_rpbd= np.ndarray(shape = (data_whole.shape[0],1,data_whole.shape[2]))\n",
    "\n",
    "for i in range(data_whole.shape[0]):\n",
    "    for j in range(data_whole.shape[2]):\n",
    "        sig_cD = data_whole[i,:,j]\n",
    "        rpbd= bandpower(sig_cD, sf=100, band=(8,13), window_sec=4, relative=True)\n",
    "        alpha_rpbd[i,:,j] = rpbd\n",
    "\n",
    "\n",
    "beta_rpbd= np.ndarray(shape = (data_whole.shape[0],1,data_whole.shape[2]))\n",
    "\n",
    "for i in range(data_whole.shape[0]):\n",
    "    for j in range(data_whole.shape[2]):\n",
    "        sig_cD = data_whole[i,:,j]\n",
    "        rpbd= bandpower(sig_cD, sf=100, band=(13,30), window_sec=4, relative=True)\n",
    "        beta_rpbd[i,:,j] = rpbd\n",
    "        \n",
    "gamma_rpbd= np.ndarray(shape = (data_whole.shape[0],1,data_whole.shape[2]))\n",
    "\n",
    "for i in range(data_whole.shape[0]):\n",
    "    for j in range(data_whole.shape[2]):\n",
    "        sig_cD = data_whole[i,:,j]\n",
    "        rpbd= bandpower(sig_cD, sf=100, band=(30,44), window_sec=4, relative=True)\n",
    "        gamma_rpbd[i,:,j] = rpbd\n"
   ]
  },
  {
   "cell_type": "code",
   "execution_count": 12,
   "metadata": {},
   "outputs": [],
   "source": [
    "all_bands_rppw = np.concatenate((delta_rpbd,theta_rpbd,alpha_rpbd,beta_rpbd,gamma_rpbd),axis=1)"
   ]
  },
  {
   "cell_type": "markdown",
   "metadata": {},
   "source": [
    "# Calculate Mean of bands"
   ]
  },
  {
   "cell_type": "code",
   "execution_count": 13,
   "metadata": {},
   "outputs": [],
   "source": [
    "def butter_bandpass(lowcut, highcut, fs, order=5):\n",
    "        nyq = 0.5 * fs\n",
    "        low = lowcut / nyq\n",
    "        high = highcut / nyq\n",
    "        sos = butter(order, [low, high], analog=False, btype='band', output='sos')\n",
    "        return sos\n",
    "\n",
    "def butter_bandpass_filter(signal, lowcut=0.5, highcut=4, fs=100, order=5):\n",
    "        sos = butter_bandpass(lowcut, highcut, fs, order=order)\n",
    "        y = sosfilt(sos, signal)\n",
    "        return y"
   ]
  },
  {
   "cell_type": "code",
   "execution_count": 14,
   "metadata": {},
   "outputs": [],
   "source": [
    "delta_mean = np.ndarray(shape = (data_whole.shape[0],1,data_whole.shape[2]))\n",
    "for i in range(data_whole.shape[0]):\n",
    "    for j in range(data_whole.shape[2]):\n",
    "        sig_raw = data_whole[i,:,j]\n",
    "        signal = butter_bandpass_filter(sig_raw, lowcut=0.5, highcut=4, fs=100, order=5)\n",
    "        signal_mean = np.mean(signal)\n",
    "        delta_mean[i,:,j] = signal_mean\n",
    "\n",
    "        \n",
    "theta_mean = np.ndarray(shape = (data_whole.shape[0],1,data_whole.shape[2]))\n",
    "for i in range(data_whole.shape[0]):\n",
    "    for j in range(data_whole.shape[2]):\n",
    "        sig_raw = data_whole[i,:,j]\n",
    "        signal = butter_bandpass_filter(sig_raw, lowcut=4, highcut=8, fs=100, order=5)\n",
    "        signal_mean = np.mean(signal)\n",
    "        theta_mean[i,:,j] = signal_mean\n",
    "        \n",
    "alpha_mean = np.ndarray(shape = (data_whole.shape[0],1,data_whole.shape[2]))\n",
    "for i in range(data_whole.shape[0]):\n",
    "    for j in range(data_whole.shape[2]):\n",
    "        sig_raw = data_whole[i,:,j]\n",
    "        signal = butter_bandpass_filter(sig_raw, lowcut=8, highcut=13, fs=100, order=5)\n",
    "        signal_mean = np.mean(signal)\n",
    "        alpha_mean[i,:,j] = signal_mean\n",
    "        \n",
    "beta_mean = np.ndarray(shape = (data_whole.shape[0],1,data_whole.shape[2]))\n",
    "for i in range(data_whole.shape[0]):\n",
    "    for j in range(data_whole.shape[2]):\n",
    "        sig_raw = data_whole[i,:,j]\n",
    "        signal = butter_bandpass_filter(sig_raw, lowcut=13, highcut=30, fs=100, order=5)\n",
    "        signal_mean = np.mean(signal)\n",
    "        beta_mean[i,:,j] = signal_mean\n",
    "\n",
    "gamma_mean = np.ndarray(shape = (data_whole.shape[0],1,data_whole.shape[2]))\n",
    "for i in range(data_whole.shape[0]):\n",
    "    for j in range(data_whole.shape[2]):\n",
    "        sig_raw = data_whole[i,:,j]\n",
    "        signal = butter_bandpass_filter(sig_raw, lowcut=30, highcut=44, fs=100, order=5)\n",
    "        signal_mean = np.mean(signal)\n",
    "        gamma_mean[i,:,j] = signal_mean"
   ]
  },
  {
   "cell_type": "code",
   "execution_count": 15,
   "metadata": {},
   "outputs": [],
   "source": [
    "all_band_mean = np.concatenate((delta_mean,theta_mean,alpha_mean,beta_mean,gamma_mean),axis=1)"
   ]
  },
  {
   "cell_type": "markdown",
   "metadata": {},
   "source": [
    "# Calculate std of bands"
   ]
  },
  {
   "cell_type": "code",
   "execution_count": 16,
   "metadata": {},
   "outputs": [],
   "source": [
    "delta_std = np.ndarray(shape = (data_whole.shape[0],1,data_whole.shape[2]))\n",
    "for i in range(data_whole.shape[0]):\n",
    "    for j in range(data_whole.shape[2]):\n",
    "        sig_raw = data_whole[i,:,j]\n",
    "        signal = butter_bandpass_filter(sig_raw, lowcut=0.5, highcut=4, fs=100, order=5)\n",
    "        signal_std = np.std(signal)\n",
    "        delta_std[i,:,j] = signal_std\n",
    "\n",
    "        \n",
    "theta_std = np.ndarray(shape = (data_whole.shape[0],1,data_whole.shape[2]))\n",
    "for i in range(data_whole.shape[0]):\n",
    "    for j in range(data_whole.shape[2]):\n",
    "        sig_raw = data_whole[i,:,j]\n",
    "        signal = butter_bandpass_filter(sig_raw, lowcut=4, highcut=8, fs=100, order=5)\n",
    "        signal_std = np.std(signal)\n",
    "        theta_std[i,:,j] = signal_std\n",
    "        \n",
    "alpha_std = np.ndarray(shape = (data_whole.shape[0],1,data_whole.shape[2]))\n",
    "for i in range(data_whole.shape[0]):\n",
    "    for j in range(data_whole.shape[2]):\n",
    "        sig_raw = data_whole[i,:,j]\n",
    "        signal = butter_bandpass_filter(sig_raw, lowcut=8, highcut=13, fs=100, order=5)\n",
    "        signal_std = np.std(signal)\n",
    "        alpha_std[i,:,j] = signal_std\n",
    "        \n",
    "beta_std = np.ndarray(shape = (data_whole.shape[0],1,data_whole.shape[2]))\n",
    "for i in range(data_whole.shape[0]):\n",
    "    for j in range(data_whole.shape[2]):\n",
    "        sig_raw = data_whole[i,:,j]\n",
    "        signal = butter_bandpass_filter(sig_raw, lowcut=13, highcut=30, fs=100, order=5)\n",
    "        signal_std = np.std(signal)\n",
    "        beta_std[i,:,j] = signal_std\n",
    "\n",
    "gamma_std = np.ndarray(shape = (data_whole.shape[0],1,data_whole.shape[2]))\n",
    "for i in range(data_whole.shape[0]):\n",
    "    for j in range(data_whole.shape[2]):\n",
    "        sig_raw = data_whole[i,:,j]\n",
    "        signal = butter_bandpass_filter(sig_raw, lowcut=30, highcut=44, fs=100, order=5)\n",
    "        signal_std = np.std(signal)\n",
    "        gamma_std[i,:,j] = signal_std\n"
   ]
  },
  {
   "cell_type": "code",
   "execution_count": 17,
   "metadata": {},
   "outputs": [],
   "source": [
    "all_band_std = np.concatenate((delta_std,theta_std,alpha_std,beta_std,gamma_std),axis=1)"
   ]
  },
  {
   "cell_type": "code",
   "execution_count": 29,
   "metadata": {},
   "outputs": [],
   "source": [
    "features = np.concatenate((all_bands_pw,all_bands_rppw),axis=2)"
   ]
  },
  {
   "cell_type": "code",
   "execution_count": 37,
   "metadata": {},
   "outputs": [],
   "source": [
    "all_bands_pw = np.reshape(all_bands_pw,(all_bands_pw.shape[0],5*2))"
   ]
  },
  {
   "cell_type": "code",
   "execution_count": 38,
   "metadata": {},
   "outputs": [],
   "source": [
    "df_band = pd.DataFrame(all_bands_pw)"
   ]
  },
  {
   "cell_type": "code",
   "execution_count": 44,
   "metadata": {},
   "outputs": [],
   "source": [
    "all_bands_rppw = np.reshape(all_bands_rppw,(all_bands_rppw.shape[0],5*2))"
   ]
  },
  {
   "cell_type": "code",
   "execution_count": 46,
   "metadata": {},
   "outputs": [],
   "source": [
    "df_rppw = pd.DataFrame(all_bands_rppw)"
   ]
  },
  {
   "cell_type": "code",
   "execution_count": 59,
   "metadata": {},
   "outputs": [],
   "source": [
    "data_bdrp = pd.concat((df_band,df_rppw),axis=1)"
   ]
  },
  {
   "cell_type": "code",
   "execution_count": 60,
   "metadata": {},
   "outputs": [
    {
     "data": {
      "text/html": [
       "<div>\n",
       "<style scoped>\n",
       "    .dataframe tbody tr th:only-of-type {\n",
       "        vertical-align: middle;\n",
       "    }\n",
       "\n",
       "    .dataframe tbody tr th {\n",
       "        vertical-align: top;\n",
       "    }\n",
       "\n",
       "    .dataframe thead th {\n",
       "        text-align: right;\n",
       "    }\n",
       "</style>\n",
       "<table border=\"1\" class=\"dataframe\">\n",
       "  <thead>\n",
       "    <tr style=\"text-align: right;\">\n",
       "      <th></th>\n",
       "      <th>0</th>\n",
       "      <th>1</th>\n",
       "      <th>2</th>\n",
       "      <th>3</th>\n",
       "      <th>4</th>\n",
       "      <th>5</th>\n",
       "      <th>6</th>\n",
       "      <th>7</th>\n",
       "      <th>8</th>\n",
       "      <th>9</th>\n",
       "      <th>0</th>\n",
       "      <th>1</th>\n",
       "      <th>2</th>\n",
       "      <th>3</th>\n",
       "      <th>4</th>\n",
       "      <th>5</th>\n",
       "      <th>6</th>\n",
       "      <th>7</th>\n",
       "      <th>8</th>\n",
       "      <th>9</th>\n",
       "    </tr>\n",
       "  </thead>\n",
       "  <tbody>\n",
       "    <tr>\n",
       "      <th>12213</th>\n",
       "      <td>0.0</td>\n",
       "      <td>0.0</td>\n",
       "      <td>2.156071e-58</td>\n",
       "      <td>2.156071e-58</td>\n",
       "      <td>0.0</td>\n",
       "      <td>0.0</td>\n",
       "      <td>4.211979e-57</td>\n",
       "      <td>4.211979e-57</td>\n",
       "      <td>0.0</td>\n",
       "      <td>0.0</td>\n",
       "      <td>NaN</td>\n",
       "      <td>NaN</td>\n",
       "      <td>NaN</td>\n",
       "      <td>NaN</td>\n",
       "      <td>NaN</td>\n",
       "      <td>NaN</td>\n",
       "      <td>NaN</td>\n",
       "      <td>NaN</td>\n",
       "      <td>NaN</td>\n",
       "      <td>NaN</td>\n",
       "    </tr>\n",
       "    <tr>\n",
       "      <th>12214</th>\n",
       "      <td>0.0</td>\n",
       "      <td>0.0</td>\n",
       "      <td>2.156071e-58</td>\n",
       "      <td>2.156071e-58</td>\n",
       "      <td>0.0</td>\n",
       "      <td>0.0</td>\n",
       "      <td>4.211979e-57</td>\n",
       "      <td>4.211979e-57</td>\n",
       "      <td>0.0</td>\n",
       "      <td>0.0</td>\n",
       "      <td>NaN</td>\n",
       "      <td>NaN</td>\n",
       "      <td>NaN</td>\n",
       "      <td>NaN</td>\n",
       "      <td>NaN</td>\n",
       "      <td>NaN</td>\n",
       "      <td>NaN</td>\n",
       "      <td>NaN</td>\n",
       "      <td>NaN</td>\n",
       "      <td>NaN</td>\n",
       "    </tr>\n",
       "    <tr>\n",
       "      <th>12215</th>\n",
       "      <td>0.0</td>\n",
       "      <td>0.0</td>\n",
       "      <td>2.156071e-58</td>\n",
       "      <td>2.156071e-58</td>\n",
       "      <td>0.0</td>\n",
       "      <td>0.0</td>\n",
       "      <td>4.211979e-57</td>\n",
       "      <td>4.211979e-57</td>\n",
       "      <td>0.0</td>\n",
       "      <td>0.0</td>\n",
       "      <td>NaN</td>\n",
       "      <td>NaN</td>\n",
       "      <td>NaN</td>\n",
       "      <td>NaN</td>\n",
       "      <td>NaN</td>\n",
       "      <td>NaN</td>\n",
       "      <td>NaN</td>\n",
       "      <td>NaN</td>\n",
       "      <td>NaN</td>\n",
       "      <td>NaN</td>\n",
       "    </tr>\n",
       "  </tbody>\n",
       "</table>\n",
       "</div>"
      ],
      "text/plain": [
       "         0    1             2             3    4    5             6  \\\n",
       "12213  0.0  0.0  2.156071e-58  2.156071e-58  0.0  0.0  4.211979e-57   \n",
       "12214  0.0  0.0  2.156071e-58  2.156071e-58  0.0  0.0  4.211979e-57   \n",
       "12215  0.0  0.0  2.156071e-58  2.156071e-58  0.0  0.0  4.211979e-57   \n",
       "\n",
       "                  7    8    9   0   1   2   3   4   5   6   7   8   9  \n",
       "12213  4.211979e-57  0.0  0.0 NaN NaN NaN NaN NaN NaN NaN NaN NaN NaN  \n",
       "12214  4.211979e-57  0.0  0.0 NaN NaN NaN NaN NaN NaN NaN NaN NaN NaN  \n",
       "12215  4.211979e-57  0.0  0.0 NaN NaN NaN NaN NaN NaN NaN NaN NaN NaN  "
      ]
     },
     "execution_count": 60,
     "metadata": {},
     "output_type": "execute_result"
    }
   ],
   "source": [
    "data_bdrp[data_bdrp.isna().any(axis=1)]"
   ]
  },
  {
   "cell_type": "code",
   "execution_count": 62,
   "metadata": {},
   "outputs": [],
   "source": [
    "train_data = data_bdrp[:15375]\n",
    "test_data = data_bdrp[15375:]"
   ]
  },
  {
   "cell_type": "code",
   "execution_count": 96,
   "metadata": {},
   "outputs": [],
   "source": [
    "data_df = pd.DataFrame(train_data)\n",
    "data_df['labels'] = labels\n",
    "data_df = data_df.sample(frac=1).reset_index(drop=True)"
   ]
  },
  {
   "cell_type": "code",
   "execution_count": 97,
   "metadata": {
    "scrolled": true
   },
   "outputs": [],
   "source": [
    "data_df = data_df.dropna()"
   ]
  },
  {
   "cell_type": "code",
   "execution_count": 98,
   "metadata": {},
   "outputs": [],
   "source": [
    "data_df = data_df.drop(columns=[8, 9])"
   ]
  },
  {
   "cell_type": "code",
   "execution_count": 99,
   "metadata": {},
   "outputs": [
    {
     "data": {
      "text/html": [
       "<div>\n",
       "<style scoped>\n",
       "    .dataframe tbody tr th:only-of-type {\n",
       "        vertical-align: middle;\n",
       "    }\n",
       "\n",
       "    .dataframe tbody tr th {\n",
       "        vertical-align: top;\n",
       "    }\n",
       "\n",
       "    .dataframe thead th {\n",
       "        text-align: right;\n",
       "    }\n",
       "</style>\n",
       "<table border=\"1\" class=\"dataframe\">\n",
       "  <thead>\n",
       "    <tr style=\"text-align: right;\">\n",
       "      <th></th>\n",
       "      <th>0</th>\n",
       "      <th>1</th>\n",
       "      <th>2</th>\n",
       "      <th>3</th>\n",
       "      <th>4</th>\n",
       "      <th>5</th>\n",
       "      <th>6</th>\n",
       "      <th>7</th>\n",
       "      <th>0</th>\n",
       "      <th>1</th>\n",
       "      <th>2</th>\n",
       "      <th>3</th>\n",
       "      <th>4</th>\n",
       "      <th>5</th>\n",
       "      <th>6</th>\n",
       "      <th>7</th>\n",
       "      <th>labels</th>\n",
       "    </tr>\n",
       "  </thead>\n",
       "  <tbody>\n",
       "    <tr>\n",
       "      <th>0</th>\n",
       "      <td>1456.569404</td>\n",
       "      <td>1457.483630</td>\n",
       "      <td>260.305635</td>\n",
       "      <td>260.738545</td>\n",
       "      <td>76.710203</td>\n",
       "      <td>77.742070</td>\n",
       "      <td>35.780358</td>\n",
       "      <td>36.022382</td>\n",
       "      <td>0.793137</td>\n",
       "      <td>0.791758</td>\n",
       "      <td>0.102153</td>\n",
       "      <td>0.103753</td>\n",
       "      <td>0.021425</td>\n",
       "      <td>0.021599</td>\n",
       "      <td>0.014825</td>\n",
       "      <td>0.014897</td>\n",
       "      <td>0</td>\n",
       "    </tr>\n",
       "    <tr>\n",
       "      <th>1</th>\n",
       "      <td>552.624830</td>\n",
       "      <td>551.314573</td>\n",
       "      <td>82.824698</td>\n",
       "      <td>82.108668</td>\n",
       "      <td>33.349973</td>\n",
       "      <td>33.736326</td>\n",
       "      <td>34.137337</td>\n",
       "      <td>34.503165</td>\n",
       "      <td>0.683054</td>\n",
       "      <td>0.681688</td>\n",
       "      <td>0.066114</td>\n",
       "      <td>0.065539</td>\n",
       "      <td>0.030078</td>\n",
       "      <td>0.031147</td>\n",
       "      <td>0.046942</td>\n",
       "      <td>0.047431</td>\n",
       "      <td>0</td>\n",
       "    </tr>\n",
       "    <tr>\n",
       "      <th>2</th>\n",
       "      <td>2770.142619</td>\n",
       "      <td>2758.908057</td>\n",
       "      <td>92.930334</td>\n",
       "      <td>98.587912</td>\n",
       "      <td>28.981087</td>\n",
       "      <td>31.451896</td>\n",
       "      <td>32.472568</td>\n",
       "      <td>42.879767</td>\n",
       "      <td>0.248466</td>\n",
       "      <td>0.246601</td>\n",
       "      <td>0.004981</td>\n",
       "      <td>0.005327</td>\n",
       "      <td>0.001212</td>\n",
       "      <td>0.001485</td>\n",
       "      <td>0.003377</td>\n",
       "      <td>0.004589</td>\n",
       "      <td>0</td>\n",
       "    </tr>\n",
       "    <tr>\n",
       "      <th>3</th>\n",
       "      <td>35.496402</td>\n",
       "      <td>35.245548</td>\n",
       "      <td>11.945380</td>\n",
       "      <td>12.027328</td>\n",
       "      <td>6.040333</td>\n",
       "      <td>5.994402</td>\n",
       "      <td>13.622149</td>\n",
       "      <td>13.468409</td>\n",
       "      <td>0.337733</td>\n",
       "      <td>0.336151</td>\n",
       "      <td>0.106637</td>\n",
       "      <td>0.107912</td>\n",
       "      <td>0.057838</td>\n",
       "      <td>0.058061</td>\n",
       "      <td>0.251087</td>\n",
       "      <td>0.250838</td>\n",
       "      <td>3</td>\n",
       "    </tr>\n",
       "    <tr>\n",
       "      <th>4</th>\n",
       "      <td>534.238661</td>\n",
       "      <td>535.926174</td>\n",
       "      <td>107.146798</td>\n",
       "      <td>108.194163</td>\n",
       "      <td>37.425358</td>\n",
       "      <td>37.757877</td>\n",
       "      <td>17.107719</td>\n",
       "      <td>17.098865</td>\n",
       "      <td>0.667013</td>\n",
       "      <td>0.666104</td>\n",
       "      <td>0.122717</td>\n",
       "      <td>0.123159</td>\n",
       "      <td>0.026531</td>\n",
       "      <td>0.027097</td>\n",
       "      <td>0.014803</td>\n",
       "      <td>0.014882</td>\n",
       "      <td>3</td>\n",
       "    </tr>\n",
       "    <tr>\n",
       "      <th>...</th>\n",
       "      <td>...</td>\n",
       "      <td>...</td>\n",
       "      <td>...</td>\n",
       "      <td>...</td>\n",
       "      <td>...</td>\n",
       "      <td>...</td>\n",
       "      <td>...</td>\n",
       "      <td>...</td>\n",
       "      <td>...</td>\n",
       "      <td>...</td>\n",
       "      <td>...</td>\n",
       "      <td>...</td>\n",
       "      <td>...</td>\n",
       "      <td>...</td>\n",
       "      <td>...</td>\n",
       "      <td>...</td>\n",
       "      <td>...</td>\n",
       "    </tr>\n",
       "    <tr>\n",
       "      <th>15370</th>\n",
       "      <td>61.350380</td>\n",
       "      <td>61.542196</td>\n",
       "      <td>23.448901</td>\n",
       "      <td>23.201737</td>\n",
       "      <td>10.293787</td>\n",
       "      <td>10.212540</td>\n",
       "      <td>11.574818</td>\n",
       "      <td>11.207899</td>\n",
       "      <td>0.439743</td>\n",
       "      <td>0.442385</td>\n",
       "      <td>0.141739</td>\n",
       "      <td>0.140349</td>\n",
       "      <td>0.067826</td>\n",
       "      <td>0.066970</td>\n",
       "      <td>0.091309</td>\n",
       "      <td>0.089294</td>\n",
       "      <td>0</td>\n",
       "    </tr>\n",
       "    <tr>\n",
       "      <th>15371</th>\n",
       "      <td>224.090233</td>\n",
       "      <td>223.585295</td>\n",
       "      <td>44.828665</td>\n",
       "      <td>44.407581</td>\n",
       "      <td>16.607090</td>\n",
       "      <td>16.614796</td>\n",
       "      <td>14.154300</td>\n",
       "      <td>14.107415</td>\n",
       "      <td>0.429559</td>\n",
       "      <td>0.428569</td>\n",
       "      <td>0.078150</td>\n",
       "      <td>0.077588</td>\n",
       "      <td>0.018980</td>\n",
       "      <td>0.018478</td>\n",
       "      <td>0.036725</td>\n",
       "      <td>0.036360</td>\n",
       "      <td>2</td>\n",
       "    </tr>\n",
       "    <tr>\n",
       "      <th>15372</th>\n",
       "      <td>447.382911</td>\n",
       "      <td>448.572572</td>\n",
       "      <td>45.424568</td>\n",
       "      <td>45.475623</td>\n",
       "      <td>17.464423</td>\n",
       "      <td>17.116952</td>\n",
       "      <td>18.655999</td>\n",
       "      <td>18.502116</td>\n",
       "      <td>0.707438</td>\n",
       "      <td>0.706019</td>\n",
       "      <td>0.058855</td>\n",
       "      <td>0.059125</td>\n",
       "      <td>0.022773</td>\n",
       "      <td>0.021768</td>\n",
       "      <td>0.033593</td>\n",
       "      <td>0.034119</td>\n",
       "      <td>1</td>\n",
       "    </tr>\n",
       "    <tr>\n",
       "      <th>15373</th>\n",
       "      <td>1009.746315</td>\n",
       "      <td>1008.221865</td>\n",
       "      <td>144.335179</td>\n",
       "      <td>144.411304</td>\n",
       "      <td>48.840912</td>\n",
       "      <td>48.947500</td>\n",
       "      <td>37.597174</td>\n",
       "      <td>37.726314</td>\n",
       "      <td>0.697893</td>\n",
       "      <td>0.697224</td>\n",
       "      <td>0.063837</td>\n",
       "      <td>0.063607</td>\n",
       "      <td>0.021674</td>\n",
       "      <td>0.022087</td>\n",
       "      <td>0.024404</td>\n",
       "      <td>0.024817</td>\n",
       "      <td>3</td>\n",
       "    </tr>\n",
       "    <tr>\n",
       "      <th>15374</th>\n",
       "      <td>24.722648</td>\n",
       "      <td>25.179817</td>\n",
       "      <td>12.149025</td>\n",
       "      <td>12.042154</td>\n",
       "      <td>7.202743</td>\n",
       "      <td>7.212161</td>\n",
       "      <td>12.297927</td>\n",
       "      <td>12.616065</td>\n",
       "      <td>0.323669</td>\n",
       "      <td>0.325866</td>\n",
       "      <td>0.146128</td>\n",
       "      <td>0.142033</td>\n",
       "      <td>0.083550</td>\n",
       "      <td>0.082447</td>\n",
       "      <td>0.185008</td>\n",
       "      <td>0.188298</td>\n",
       "      <td>5</td>\n",
       "    </tr>\n",
       "  </tbody>\n",
       "</table>\n",
       "<p>15372 rows × 17 columns</p>\n",
       "</div>"
      ],
      "text/plain": [
       "                 0            1           2           3          4          5  \\\n",
       "0      1456.569404  1457.483630  260.305635  260.738545  76.710203  77.742070   \n",
       "1       552.624830   551.314573   82.824698   82.108668  33.349973  33.736326   \n",
       "2      2770.142619  2758.908057   92.930334   98.587912  28.981087  31.451896   \n",
       "3        35.496402    35.245548   11.945380   12.027328   6.040333   5.994402   \n",
       "4       534.238661   535.926174  107.146798  108.194163  37.425358  37.757877   \n",
       "...            ...          ...         ...         ...        ...        ...   \n",
       "15370    61.350380    61.542196   23.448901   23.201737  10.293787  10.212540   \n",
       "15371   224.090233   223.585295   44.828665   44.407581  16.607090  16.614796   \n",
       "15372   447.382911   448.572572   45.424568   45.475623  17.464423  17.116952   \n",
       "15373  1009.746315  1008.221865  144.335179  144.411304  48.840912  48.947500   \n",
       "15374    24.722648    25.179817   12.149025   12.042154   7.202743   7.212161   \n",
       "\n",
       "               6          7         0         1         2         3         4  \\\n",
       "0      35.780358  36.022382  0.793137  0.791758  0.102153  0.103753  0.021425   \n",
       "1      34.137337  34.503165  0.683054  0.681688  0.066114  0.065539  0.030078   \n",
       "2      32.472568  42.879767  0.248466  0.246601  0.004981  0.005327  0.001212   \n",
       "3      13.622149  13.468409  0.337733  0.336151  0.106637  0.107912  0.057838   \n",
       "4      17.107719  17.098865  0.667013  0.666104  0.122717  0.123159  0.026531   \n",
       "...          ...        ...       ...       ...       ...       ...       ...   \n",
       "15370  11.574818  11.207899  0.439743  0.442385  0.141739  0.140349  0.067826   \n",
       "15371  14.154300  14.107415  0.429559  0.428569  0.078150  0.077588  0.018980   \n",
       "15372  18.655999  18.502116  0.707438  0.706019  0.058855  0.059125  0.022773   \n",
       "15373  37.597174  37.726314  0.697893  0.697224  0.063837  0.063607  0.021674   \n",
       "15374  12.297927  12.616065  0.323669  0.325866  0.146128  0.142033  0.083550   \n",
       "\n",
       "              5         6         7  labels  \n",
       "0      0.021599  0.014825  0.014897       0  \n",
       "1      0.031147  0.046942  0.047431       0  \n",
       "2      0.001485  0.003377  0.004589       0  \n",
       "3      0.058061  0.251087  0.250838       3  \n",
       "4      0.027097  0.014803  0.014882       3  \n",
       "...         ...       ...       ...     ...  \n",
       "15370  0.066970  0.091309  0.089294       0  \n",
       "15371  0.018478  0.036725  0.036360       2  \n",
       "15372  0.021768  0.033593  0.034119       1  \n",
       "15373  0.022087  0.024404  0.024817       3  \n",
       "15374  0.082447  0.185008  0.188298       5  \n",
       "\n",
       "[15372 rows x 17 columns]"
      ]
     },
     "execution_count": 99,
     "metadata": {},
     "output_type": "execute_result"
    }
   ],
   "source": [
    "data_df"
   ]
  },
  {
   "cell_type": "code",
   "execution_count": 54,
   "metadata": {},
   "outputs": [],
   "source": [
    "test_df = pd.DataFrame(test_data)"
   ]
  },
  {
   "cell_type": "code",
   "execution_count": 100,
   "metadata": {},
   "outputs": [
    {
     "data": {
      "text/html": [
       "<div>\n",
       "<style scoped>\n",
       "    .dataframe tbody tr th:only-of-type {\n",
       "        vertical-align: middle;\n",
       "    }\n",
       "\n",
       "    .dataframe tbody tr th {\n",
       "        vertical-align: top;\n",
       "    }\n",
       "\n",
       "    .dataframe thead th {\n",
       "        text-align: right;\n",
       "    }\n",
       "</style>\n",
       "<table border=\"1\" class=\"dataframe\">\n",
       "  <thead>\n",
       "    <tr style=\"text-align: right;\">\n",
       "      <th></th>\n",
       "      <th>0</th>\n",
       "      <th>1</th>\n",
       "      <th>2</th>\n",
       "      <th>3</th>\n",
       "      <th>4</th>\n",
       "      <th>5</th>\n",
       "      <th>6</th>\n",
       "      <th>7</th>\n",
       "      <th>0</th>\n",
       "      <th>1</th>\n",
       "      <th>2</th>\n",
       "      <th>3</th>\n",
       "      <th>4</th>\n",
       "      <th>5</th>\n",
       "      <th>6</th>\n",
       "      <th>7</th>\n",
       "      <th>labels</th>\n",
       "    </tr>\n",
       "  </thead>\n",
       "  <tbody>\n",
       "    <tr>\n",
       "      <th>0</th>\n",
       "      <td>1456.569404</td>\n",
       "      <td>1457.483630</td>\n",
       "      <td>260.305635</td>\n",
       "      <td>260.738545</td>\n",
       "      <td>76.710203</td>\n",
       "      <td>77.742070</td>\n",
       "      <td>35.780358</td>\n",
       "      <td>36.022382</td>\n",
       "      <td>0.793137</td>\n",
       "      <td>0.791758</td>\n",
       "      <td>0.102153</td>\n",
       "      <td>0.103753</td>\n",
       "      <td>0.021425</td>\n",
       "      <td>0.021599</td>\n",
       "      <td>0.014825</td>\n",
       "      <td>0.014897</td>\n",
       "      <td>0</td>\n",
       "    </tr>\n",
       "    <tr>\n",
       "      <th>1</th>\n",
       "      <td>552.624830</td>\n",
       "      <td>551.314573</td>\n",
       "      <td>82.824698</td>\n",
       "      <td>82.108668</td>\n",
       "      <td>33.349973</td>\n",
       "      <td>33.736326</td>\n",
       "      <td>34.137337</td>\n",
       "      <td>34.503165</td>\n",
       "      <td>0.683054</td>\n",
       "      <td>0.681688</td>\n",
       "      <td>0.066114</td>\n",
       "      <td>0.065539</td>\n",
       "      <td>0.030078</td>\n",
       "      <td>0.031147</td>\n",
       "      <td>0.046942</td>\n",
       "      <td>0.047431</td>\n",
       "      <td>0</td>\n",
       "    </tr>\n",
       "    <tr>\n",
       "      <th>2</th>\n",
       "      <td>2770.142619</td>\n",
       "      <td>2758.908057</td>\n",
       "      <td>92.930334</td>\n",
       "      <td>98.587912</td>\n",
       "      <td>28.981087</td>\n",
       "      <td>31.451896</td>\n",
       "      <td>32.472568</td>\n",
       "      <td>42.879767</td>\n",
       "      <td>0.248466</td>\n",
       "      <td>0.246601</td>\n",
       "      <td>0.004981</td>\n",
       "      <td>0.005327</td>\n",
       "      <td>0.001212</td>\n",
       "      <td>0.001485</td>\n",
       "      <td>0.003377</td>\n",
       "      <td>0.004589</td>\n",
       "      <td>0</td>\n",
       "    </tr>\n",
       "    <tr>\n",
       "      <th>3</th>\n",
       "      <td>35.496402</td>\n",
       "      <td>35.245548</td>\n",
       "      <td>11.945380</td>\n",
       "      <td>12.027328</td>\n",
       "      <td>6.040333</td>\n",
       "      <td>5.994402</td>\n",
       "      <td>13.622149</td>\n",
       "      <td>13.468409</td>\n",
       "      <td>0.337733</td>\n",
       "      <td>0.336151</td>\n",
       "      <td>0.106637</td>\n",
       "      <td>0.107912</td>\n",
       "      <td>0.057838</td>\n",
       "      <td>0.058061</td>\n",
       "      <td>0.251087</td>\n",
       "      <td>0.250838</td>\n",
       "      <td>3</td>\n",
       "    </tr>\n",
       "    <tr>\n",
       "      <th>4</th>\n",
       "      <td>534.238661</td>\n",
       "      <td>535.926174</td>\n",
       "      <td>107.146798</td>\n",
       "      <td>108.194163</td>\n",
       "      <td>37.425358</td>\n",
       "      <td>37.757877</td>\n",
       "      <td>17.107719</td>\n",
       "      <td>17.098865</td>\n",
       "      <td>0.667013</td>\n",
       "      <td>0.666104</td>\n",
       "      <td>0.122717</td>\n",
       "      <td>0.123159</td>\n",
       "      <td>0.026531</td>\n",
       "      <td>0.027097</td>\n",
       "      <td>0.014803</td>\n",
       "      <td>0.014882</td>\n",
       "      <td>3</td>\n",
       "    </tr>\n",
       "  </tbody>\n",
       "</table>\n",
       "</div>"
      ],
      "text/plain": [
       "             0            1           2           3          4          5  \\\n",
       "0  1456.569404  1457.483630  260.305635  260.738545  76.710203  77.742070   \n",
       "1   552.624830   551.314573   82.824698   82.108668  33.349973  33.736326   \n",
       "2  2770.142619  2758.908057   92.930334   98.587912  28.981087  31.451896   \n",
       "3    35.496402    35.245548   11.945380   12.027328   6.040333   5.994402   \n",
       "4   534.238661   535.926174  107.146798  108.194163  37.425358  37.757877   \n",
       "\n",
       "           6          7         0         1         2         3         4  \\\n",
       "0  35.780358  36.022382  0.793137  0.791758  0.102153  0.103753  0.021425   \n",
       "1  34.137337  34.503165  0.683054  0.681688  0.066114  0.065539  0.030078   \n",
       "2  32.472568  42.879767  0.248466  0.246601  0.004981  0.005327  0.001212   \n",
       "3  13.622149  13.468409  0.337733  0.336151  0.106637  0.107912  0.057838   \n",
       "4  17.107719  17.098865  0.667013  0.666104  0.122717  0.123159  0.026531   \n",
       "\n",
       "          5         6         7  labels  \n",
       "0  0.021599  0.014825  0.014897       0  \n",
       "1  0.031147  0.046942  0.047431       0  \n",
       "2  0.001485  0.003377  0.004589       0  \n",
       "3  0.058061  0.251087  0.250838       3  \n",
       "4  0.027097  0.014803  0.014882       3  "
      ]
     },
     "execution_count": 100,
     "metadata": {},
     "output_type": "execute_result"
    }
   ],
   "source": [
    "data_df.head()"
   ]
  },
  {
   "cell_type": "code",
   "execution_count": 101,
   "metadata": {},
   "outputs": [],
   "source": [
    "labels = data_df.pop('labels')\n"
   ]
  },
  {
   "cell_type": "code",
   "execution_count": 102,
   "metadata": {},
   "outputs": [],
   "source": [
    "data = data_df[:].values"
   ]
  },
  {
   "cell_type": "code",
   "execution_count": 103,
   "metadata": {},
   "outputs": [
    {
     "name": "stdout",
     "output_type": "stream",
     "text": [
      "(12297, 16) (12297,) (3075, 16) (3075,)\n"
     ]
    }
   ],
   "source": [
    "from sklearn.model_selection import train_test_split\n",
    "\n",
    "X_train,X_val,Y_train,Y_val = train_test_split(data,labels, test_size=0.20, random_state=123, shuffle = False)\n",
    "\n",
    "print(X_train.shape, Y_train.shape, X_val.shape, Y_val.shape)"
   ]
  },
  {
   "cell_type": "code",
   "execution_count": 104,
   "metadata": {},
   "outputs": [],
   "source": [
    "params_grid = [{'kernel': ['rbf'], 'gamma': [1e-3, 1e-4],'C': [1, 10, 100, 1000]}]"
   ]
  },
  {
   "cell_type": "code",
   "execution_count": 105,
   "metadata": {},
   "outputs": [],
   "source": [
    "from sklearn.svm import SVC\n",
    "from sklearn.metrics import confusion_matrix,classification_report\n",
    "from sklearn.model_selection import cross_val_score, GridSearchCV"
   ]
  },
  {
   "cell_type": "code",
   "execution_count": 106,
   "metadata": {},
   "outputs": [
    {
     "data": {
      "text/plain": [
       "GridSearchCV(cv=5, error_score='raise-deprecating',\n",
       "             estimator=SVC(C=1.0, cache_size=200, class_weight=None, coef0=0.0,\n",
       "                           decision_function_shape='ovr', degree=3,\n",
       "                           gamma='auto_deprecated', kernel='rbf', max_iter=-1,\n",
       "                           probability=False, random_state=None, shrinking=True,\n",
       "                           tol=0.001, verbose=False),\n",
       "             iid='warn', n_jobs=None,\n",
       "             param_grid=[{'C': [1, 10, 100, 1000], 'gamma': [0.001, 0.0001],\n",
       "                          'kernel': ['rbf']}],\n",
       "             pre_dispatch='2*n_jobs', refit=True, return_train_score=False,\n",
       "             scoring=None, verbose=0)"
      ]
     },
     "execution_count": 106,
     "metadata": {},
     "output_type": "execute_result"
    }
   ],
   "source": [
    "svm_model = GridSearchCV(SVC(),params_grid, cv=5)\n",
    "svm_model.fit(X_train, Y_train)"
   ]
  },
  {
   "cell_type": "code",
   "execution_count": 107,
   "metadata": {},
   "outputs": [
    {
     "name": "stdout",
     "output_type": "stream",
     "text": [
      "Best score for training data: 0.18931446694315687 \n",
      "\n",
      "Best C: 1 \n",
      "\n",
      "Best Kernel: rbf \n",
      "\n",
      "Best Gamma: 0.0001 \n",
      "\n"
     ]
    }
   ],
   "source": [
    "# View the accuracy score\n",
    "print('Best score for training data:', svm_model.best_score_,\"\\n\") \n",
    "\n",
    "# View the best parameters for the model found using grid search\n",
    "print('Best C:',svm_model.best_estimator_.C,\"\\n\") \n",
    "print('Best Kernel:',svm_model.best_estimator_.kernel,\"\\n\")\n",
    "print('Best Gamma:',svm_model.best_estimator_.gamma,\"\\n\")"
   ]
  },
  {
   "cell_type": "code",
   "execution_count": 108,
   "metadata": {},
   "outputs": [],
   "source": [
    "Y_pred = svm_model.predict(X_val)"
   ]
  },
  {
   "cell_type": "code",
   "execution_count": 109,
   "metadata": {},
   "outputs": [
    {
     "name": "stdout",
     "output_type": "stream",
     "text": [
      "[[369  30 146   3  19   4]\n",
      " [350  26 124   5  12   1]\n",
      " [423  31 131   8  14   3]\n",
      " [372  22 137   7  14   4]\n",
      " [302  22 109   7   7   5]\n",
      " [253  17  88   3   6   1]]\n",
      "\n",
      "\n",
      "              precision    recall  f1-score   support\n",
      "\n",
      "           0       0.18      0.65      0.28       571\n",
      "           1       0.18      0.05      0.08       518\n",
      "           2       0.18      0.21      0.19       610\n",
      "           3       0.21      0.01      0.02       556\n",
      "           4       0.10      0.02      0.03       452\n",
      "           5       0.06      0.00      0.01       368\n",
      "\n",
      "    accuracy                           0.18      3075\n",
      "   macro avg       0.15      0.16      0.10      3075\n",
      "weighted avg       0.16      0.18      0.11      3075\n",
      "\n",
      "Training set score for SVM: 0.259901\n",
      "Testing  set score for SVM: 0.175935\n"
     ]
    }
   ],
   "source": [
    "print(confusion_matrix(Y_val,Y_pred))\n",
    "print(\"\\n\")\n",
    "print(classification_report(Y_val,Y_pred))\n",
    "print(\"Training set score for SVM: %f\" % svm_model.score(X_train, Y_train))\n",
    "print(\"Testing  set score for SVM: %f\" % svm_model.score(X_val , Y_val))"
   ]
  },
  {
   "cell_type": "code",
   "execution_count": 152,
   "metadata": {},
   "outputs": [],
   "source": [
    "from sklearn.ensemble import RandomForestClassifier\n",
    "from sklearn.metrics import confusion_matrix\n",
    "from sklearn.externals import joblib"
   ]
  },
  {
   "cell_type": "code",
   "execution_count": 153,
   "metadata": {},
   "outputs": [
    {
     "data": {
      "text/plain": [
       "RandomForestClassifier(bootstrap=True, class_weight=None, criterion='entropy',\n",
       "                       max_depth=None, max_features='auto', max_leaf_nodes=None,\n",
       "                       min_impurity_decrease=0.0, min_impurity_split=None,\n",
       "                       min_samples_leaf=1, min_samples_split=2,\n",
       "                       min_weight_fraction_leaf=0.0, n_estimators=100,\n",
       "                       n_jobs=None, oob_score=False, random_state=42, verbose=0,\n",
       "                       warm_start=False)"
      ]
     },
     "execution_count": 153,
     "metadata": {},
     "output_type": "execute_result"
    }
   ],
   "source": [
    "classifier = RandomForestClassifier(n_estimators = 100, criterion = 'entropy', random_state = 42)\n",
    "classifier.fit(X_train, Y_train)"
   ]
  },
  {
   "cell_type": "code",
   "execution_count": 154,
   "metadata": {},
   "outputs": [
    {
     "data": {
      "text/plain": [
       "0.999349593495935"
      ]
     },
     "execution_count": 154,
     "metadata": {},
     "output_type": "execute_result"
    }
   ],
   "source": [
    "classifier.score(X_train, Y_train)"
   ]
  },
  {
   "cell_type": "code",
   "execution_count": 155,
   "metadata": {},
   "outputs": [],
   "source": [
    "Y_pred = classifier.predict(X_val)"
   ]
  },
  {
   "cell_type": "code",
   "execution_count": 156,
   "metadata": {},
   "outputs": [
    {
     "name": "stdout",
     "output_type": "stream",
     "text": [
      "[[180  89 169  75  40  14]\n",
      " [167  81 146  71  44  22]\n",
      " [194  99 154  75  38  22]\n",
      " [170  64 151  85  36  19]\n",
      " [146  63 146  57  36  15]\n",
      " [138  69 103  50  36  11]]\n",
      "\n",
      "\n",
      "              precision    recall  f1-score   support\n",
      "\n",
      "           0       0.18      0.32      0.23       567\n",
      "           1       0.17      0.15      0.16       531\n",
      "           2       0.18      0.26      0.21       582\n",
      "           3       0.21      0.16      0.18       525\n",
      "           4       0.16      0.08      0.10       463\n",
      "           5       0.11      0.03      0.04       407\n",
      "\n",
      "    accuracy                           0.18      3075\n",
      "   macro avg       0.17      0.17      0.16      3075\n",
      "weighted avg       0.17      0.18      0.16      3075\n",
      "\n",
      "Training set score for RF: 0.999350\n",
      "Testing  set score for RF: 0.177886\n"
     ]
    }
   ],
   "source": [
    "print(confusion_matrix(Y_val,Y_pred))\n",
    "print(\"\\n\")\n",
    "print(classification_report(Y_val,Y_pred))\n",
    "print(\"Training set score for RF: %f\" % classifier.score(X_train, Y_train))\n",
    "print(\"Testing  set score for RF: %f\" % classifier.score(X_val , Y_val))"
   ]
  },
  {
   "cell_type": "code",
   "execution_count": null,
   "metadata": {},
   "outputs": [],
   "source": []
  }
 ],
 "metadata": {
  "kernelspec": {
   "display_name": "Python 3",
   "language": "python",
   "name": "python3"
  },
  "language_info": {
   "codemirror_mode": {
    "name": "ipython",
    "version": 3
   },
   "file_extension": ".py",
   "mimetype": "text/x-python",
   "name": "python",
   "nbconvert_exporter": "python",
   "pygments_lexer": "ipython3",
   "version": "3.7.4"
  }
 },
 "nbformat": 4,
 "nbformat_minor": 2
}
